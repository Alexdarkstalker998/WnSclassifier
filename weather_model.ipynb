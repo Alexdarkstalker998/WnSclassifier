{
 "cells": [
  {
   "cell_type": "code",
   "execution_count": 20,
   "metadata": {},
   "outputs": [
    {
     "name": "stdout",
     "output_type": "stream",
     "text": [
      "{0: 'clear', 1: 'overcast', 2: 'rainy', 3: 'snowy', 4: 'foggy'}\n",
      "GeForce RTX 2060\n",
      "{'clear': 0, 'overcast': 1, 'rainy': 2, 'snowy': 3, 'foggy': 4}\n"
     ]
    }
   ],
   "source": [
    "import json\n",
    "import os\n",
    "from PIL import Image\n",
    "import torch\n",
    "from torch.utils.data import Dataset, SubsetRandomSampler\n",
    "from torchvision import models\n",
    "from torchvision import transforms\n",
    "import torch.nn as nn\n",
    "import torch.optim as optim\n",
    "import numpy as np\n",
    "from sklearn import metrics\n",
    "import matplotlib.pyplot as plt\n",
    "import time\n",
    "import albumentations as A\n",
    "from collections import Counter\n",
    "\n",
    "weather_dict_file = open('weather_dict.json','r')\n",
    "weather_dict = json.load(weather_dict_file)\n",
    "w_by_i = {int(i):key for i,key in weather_dict[0].items()}\n",
    "i_by_w = {key:int(i) for key,i in weather_dict[1].items()}\n",
    "train_folder = 'drivedata_v2/train'\n",
    "test_folder = 'drivedata_v2/test_weather/'\n",
    "my_ph_folder = 'my_ph/'\n",
    "print(w_by_i)\n",
    "if torch.cuda.is_available():\n",
    "    device = torch.device('cuda:0')\n",
    "print(torch.cuda.get_device_name(0))\n",
    "#i_by_w['partly cloudy'] = 0\n",
    "print(i_by_w)"
   ]
  },
  {
   "cell_type": "code",
   "execution_count": 5,
   "metadata": {},
   "outputs": [],
   "source": [
    "def init_aug():\n",
    "    augmentation_pipeline = A.Compose(\n",
    "    [\n",
    "        A.ShiftScaleRotate(rotate_limit=10),\n",
    "        A.HorizontalFlip(p = 0.5), # apply horizontal flip to 50% of images\n",
    "        A.OneOf(\n",
    "            [\n",
    "                # apply one of transforms to 50% of images\n",
    "                A.RandomContrast(), # apply random contrast\n",
    "                A.RandomGamma(), # apply random gamma\n",
    "                A.RandomBrightness(), # apply random brightness\n",
    "            ],\n",
    "            p = 0.5\n",
    "        ),\n",
    "    ],\n",
    "    p = 1\n",
    "    )\n",
    "    return augmentation_pipeline"
   ]
  },
  {
   "cell_type": "code",
   "execution_count": 13,
   "metadata": {},
   "outputs": [],
   "source": [
    "def train_model(model, train_loader, val_loader, loss, optimizer, num_epochs):    \n",
    "    loss_history = []\n",
    "    train_history = []\n",
    "    val_history = []\n",
    "    for epoch in range(num_epochs):\n",
    "        model.train() # Enter train mode\n",
    "        \n",
    "        loss_accum = 0\n",
    "        correct_samples = 0\n",
    "        total_samples = 0\n",
    "        start = time.time()\n",
    "        for i_step, (x, y,_) in enumerate(train_loader):\n",
    "            start = time.time()\n",
    "            x_gpu = x.to(device)\n",
    "            y_gpu = y.to(device)\n",
    "            \n",
    "            prediction = model(x_gpu)    \n",
    "            loss_value = loss(prediction, y_gpu)\n",
    "            optimizer.zero_grad()\n",
    "            loss_value.backward()\n",
    "            optimizer.step()\n",
    "            \n",
    "            _, indices = torch.max(prediction, 1)\n",
    "            correct_samples += torch.sum(indices == y_gpu)\n",
    "            total_samples += y.shape[0]\n",
    "            \n",
    "            loss_accum += loss_value\n",
    "            print(i_step,  time.time()- start)\n",
    "        ave_loss = loss_accum / i_step\n",
    "        train_accuracy = float(correct_samples) / total_samples\n",
    "        val_accuracy = compute_accuracy(model, val_loader)\n",
    "        \n",
    "        loss_history.append(float(ave_loss))\n",
    "        train_history.append(train_accuracy)\n",
    "        val_history.append(val_accuracy)\n",
    "        \n",
    "        print(\"Average loss: %f, Train accuracy: %f, Val balanced accuracy: %f\" % (ave_loss, train_accuracy, val_accuracy))\n",
    "        \n",
    "    return loss_history, train_history, val_history\n",
    "        \n",
    "def compute_accuracy(model, loader):\n",
    "    \"\"\"\n",
    "    Computes accuracy on the dataset wrapped in a loader\n",
    "    \n",
    "    Returns: accuracy as a float value between 0 and 1\n",
    "    \"\"\"\n",
    "    model.eval() # Evaluation mode\n",
    "    pred = list()\n",
    "    gr_tr = list()\n",
    "    for (x,y,_) in loader:\n",
    "        x = x.to(device=device)\n",
    "        y = y.to(device=device)\n",
    "        predict = model(x)\n",
    "        x.cpu()\n",
    "        _, indices = torch.max(predict, 1)\n",
    "        gr_tr.extend(y.cpu().tolist())\n",
    "        pred.extend(indices.cpu().tolist())\n",
    "        \n",
    "    val_accuracy = [gr_tr, pred]\n",
    "    return val_accuracy"
   ]
  },
  {
   "cell_type": "code",
   "execution_count": null,
   "metadata": {},
   "outputs": [],
   "source": [
    "class WeatherDataset(Dataset):\n",
    "    def __init__(self, folder, transform=None, augmentation=None):\n",
    "        self.transform = transform\n",
    "        self.augmentation=augmentation\n",
    "        self.folder = folder\n",
    "        filenames = os.listdir(self.folder)\n",
    "        self.filenames = [name for name in filenames if name != 'desktop.ini' and name.split('_')[2]!='undefined.jpg']\n",
    "        splited = [x.replace('.jpg','').split('_') for x in self.filenames]\n",
    "        self.splited = [[i_by_w[x[2]],x[0]] for x in splited]\n",
    "        self.transform = transform\n",
    "        \n",
    "    def __len__(self):\n",
    "        return len(self.filenames)\n",
    "    \n",
    "    def __getitem__(self, index):\n",
    "        img = Image.open(os.path.join(self.folder, self.filenames[index]))\n",
    "        y = self.splited[index][0]\n",
    "        img_id = self.splited[index][1]\n",
    "        if self.augmentation:\n",
    "            img = self.augmentation(image = np.array(img))['image']\n",
    "        if self.transform: \n",
    "            img = self.transform(img)\n",
    "        return img, y, self.filenames[index]"
   ]
  },
  {
   "cell_type": "code",
   "execution_count": null,
   "metadata": {},
   "outputs": [],
   "source": [
    "train_dataset = WeatherDataset(train_folder, \n",
    "                       transform=transforms.Compose([\n",
    "                           transforms.Resize((224, 224)),\n",
    "                           transforms.ToTensor(),\n",
    "                           # Use mean and std for pretrained models\n",
    "                           # https://pytorch.org/docs/stable/torchvision/models.html\n",
    "                           transforms.Normalize(mean=[0.485, 0.456, 0.406],\n",
    "                                 std=[0.229, 0.224, 0.225])                         \n",
    "                       ]),\n",
    "                        augmentation=init_aug()\n",
    "                      )\n",
    "test_dataset =WeatherDataset(test_folder, \n",
    "                       transform=transforms.Compose([\n",
    "                           transforms.Resize((224, 224)),\n",
    "                           transforms.ToTensor(),\n",
    "                           # Use mean and std for pretrained models\n",
    "                           # https://pytorch.org/docs/stable/torchvision/models.html\n",
    "                           transforms.Normalize(mean=[0.485, 0.456, 0.406],\n",
    "                                 std=[0.229, 0.224, 0.225])                         \n",
    "                       ])\n",
    "                      )\n"
   ]
  },
  {
   "cell_type": "code",
   "execution_count": null,
   "metadata": {},
   "outputs": [],
   "source": [
    "batch_size = 16\n",
    "data_size = len(train_dataset)\n",
    "validation_fraction = .1\n",
    "val_split = int(np.floor((validation_fraction) * data_size))\n",
    "indices = list(range(data_size))\n",
    "np.random.seed(42)\n",
    "np.random.shuffle(indices)\n",
    "val_indices, train_indices = indices[:val_split], indices[val_split:]\n",
    "train_sampler = SubsetRandomSampler(train_indices)\n",
    "val_sampler = SubsetRandomSampler(val_indices)\n",
    "train_loader = torch.utils.data.DataLoader(train_dataset, batch_size=batch_size, \n",
    "                                           sampler=train_sampler,pin_memory=True,num_workers=4)\n",
    "val_loader = torch.utils.data.DataLoader(train_dataset, batch_size=batch_size,\n",
    "                                         sampler=val_sampler,pin_memory=True)\n",
    "test_loader = torch.utils.data.DataLoader(test_dataset, batch_size=batch_size,pin_memory=True)\n",
    "my_ph_loader = torch.utils.data.DataLoader(my_ph_dataset, batch_size=batch_size,pin_memory=True)\n"
   ]
  },
  {
   "cell_type": "code",
   "execution_count": null,
   "metadata": {},
   "outputs": [],
   "source": [
    "model = torch.load('weather_models_checkpoint/scene_2020-02-24_06-26_4_0.8801598084308191.pt')\n",
    "model.to(device)"
   ]
  },
  {
   "cell_type": "code",
   "execution_count": null,
   "metadata": {},
   "outputs": [],
   "source": []
  },
  {
   "cell_type": "code",
   "execution_count": 37,
   "metadata": {},
   "outputs": [
    {
     "name": "stdout",
     "output_type": "stream",
     "text": [
      "Counter({0: 4787, 1: 1406, 3: 692, 2: 491, 5: 401, 4: 11})\n"
     ]
    }
   ],
   "source": [
    "result_file = open('val_result_weather.json','r')\n",
    "result = json.load(result_file)\n",
    "pred = np.array(result[0])\n",
    "gr_tr = np.array(result[1])\n",
    "print(Counter(pred))"
   ]
  },
  {
   "cell_type": "code",
   "execution_count": 38,
   "metadata": {},
   "outputs": [
    {
     "name": "stdout",
     "output_type": "stream",
     "text": [
      "               precision    recall  f1-score   support\n",
      "\n",
      "        clear       0.91      0.93      0.92      4669\n",
      "     overcast       0.70      0.87      0.78      1133\n",
      "        rainy       0.79      0.66      0.72       594\n",
      "        snowy       0.81      0.76      0.79       740\n",
      "        foggy       0.36      0.13      0.20        30\n",
      "partly cloudy       0.77      0.50      0.61       622\n",
      "\n",
      "     accuracy                           0.85      7788\n",
      "    macro avg       0.73      0.64      0.67      7788\n",
      " weighted avg       0.85      0.85      0.84      7788\n",
      "\n"
     ]
    }
   ],
   "source": [
    "print(metrics.classification_report(gr_tr,pred,target_names=list(i_by_w.keys())))"
   ]
  },
  {
   "cell_type": "code",
   "execution_count": 18,
   "metadata": {},
   "outputs": [
    {
     "data": {
      "image/png": "[encoded data removed]",
      "text/plain": [
       "<Figure size 720x504 with 2 Axes>"
      ]
     },
     "metadata": {
      "needs_background": "light"
     },
     "output_type": "display_data"
    }
   ],
   "source": [
    "import seaborn as sn\n",
    "import pandas as pd\n",
    "import matplotlib.pyplot as plt\n",
    "\n",
    "array = metrics.confusion_matrix(gr_tr,pred)\n",
    "\n",
    "df_cm = pd.DataFrame(array, i_by_w.keys(), i_by_w.keys())\n",
    "plt.figure(figsize=(10,7))\n",
    "sn.set(font_scale=1.7) # for label size\n",
    "sn.heatmap(df_cm, annot=True, annot_kws={\"size\": 16}) # font size\n",
    "\n",
    "plt.show()"
   ]
  },
  {
   "cell_type": "code",
   "execution_count": 51,
   "metadata": {},
   "outputs": [],
   "source": [
    "[gr_tr,pred] = compute_accuracy(model,test_loader)\n",
    "#errors = compute_test_metrics(model, test_loader)"
   ]
  },
  {
   "cell_type": "code",
   "execution_count": 52,
   "metadata": {},
   "outputs": [
    {
     "name": "stdout",
     "output_type": "stream",
     "text": [
      "              precision    recall  f1-score   support\n",
      "\n",
      "       clear       0.84      0.97      0.90       100\n",
      "    overcast       0.92      0.88      0.90       100\n",
      "       rainy       0.91      0.92      0.92       100\n",
      "       snowy       0.90      0.81      0.85       100\n",
      "       foggy       1.00      0.90      0.95        20\n",
      "\n",
      "    accuracy                           0.90       420\n",
      "   macro avg       0.91      0.90      0.90       420\n",
      "weighted avg       0.90      0.90      0.89       420\n",
      "\n"
     ]
    }
   ],
   "source": [
    "print(metrics.classification_report(gr_tr,pred,target_names=list(i_by_w.keys())))"
   ]
  },
  {
   "cell_type": "code",
   "execution_count": 32,
   "metadata": {},
   "outputs": [],
   "source": [
    "def compute_test_metrics(model,loader):\n",
    "    model.eval() # Evaluation mode\n",
    "    pred = list()\n",
    "    gr_tr = list()\n",
    "    images = []\n",
    "    errors = []\n",
    "    toPILL = transforms.ToPILImage()\n",
    "    for (x,y,name) in loader:\n",
    "        x = x.to(device=device)\n",
    "        y = y.to(device=device)\n",
    "        predict = model(x)\n",
    "        _, indices = torch.max(predict, 1)\n",
    "        y = y.cpu().tolist()\n",
    "        indices = indices.cpu().tolist()\n",
    "        gr_tr.extend(y)\n",
    "        pred.extend(indices)\n",
    "        errors_temp = [{'image':name[i],'gr_tr':w_by_i[y[i]],\"pred\":w_by_i[indices[i]]} for i in range(len(y)) if y[i]!=indices[i]]\n",
    "        errors.extend(errors_temp)\n",
    "    return errors"
   ]
  },
  {
   "cell_type": "code",
   "execution_count": 50,
   "metadata": {},
   "outputs": [
    {
     "name": "stdout",
     "output_type": "stream",
     "text": [
      "gr_tr: snowy pred: clear\n",
      "gr_tr: overcast pred: snowy\n"
     ]
    }
   ],
   "source": [
    "folder = 'drivedata_v2/test_weather/'\n",
    "count = len(errors)\n",
    "i = 0\n",
    "for error in errors:\n",
    "    i+=1\n",
    "    img = Image.open(os.path.join(folder,error['image']))\n",
    "    print('gr_tr: %s pred: %s'% (error['gr_tr'],error['pred']), end=\"\\r\")\n",
    "    img.show()\n",
    "    input()"
   ]
  },
  {
   "cell_type": "code",
   "execution_count": null,
   "metadata": {},
   "outputs": [],
   "source": []
  }
 ],
 "metadata": {
  "kernelspec": {
   "display_name": "Python 3",
   "language": "python",
   "name": "python3"
  },
  "language_info": {
   "codemirror_mode": {
    "name": "ipython",
    "version": 3
   },
   "file_extension": ".py",
   "mimetype": "text/x-python",
   "name": "python",
   "nbconvert_exporter": "python",
   "pygments_lexer": "ipython3",
   "version": "3.7.6"
  }
 },
 "nbformat": 4,
 "nbformat_minor": 4
}
